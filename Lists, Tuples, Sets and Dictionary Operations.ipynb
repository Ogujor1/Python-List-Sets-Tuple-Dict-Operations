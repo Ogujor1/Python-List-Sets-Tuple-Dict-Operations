{
 "cells": [
  {
   "cell_type": "markdown",
   "id": "35c4ba86",
   "metadata": {},
   "source": [
    "1. write a code to find the second largest number in a list of integers after sorting the list:\n",
    "numbers = [10, 5, 20, 15, 8]\n"
   ]
  },
  {
   "cell_type": "code",
   "execution_count": 1,
   "id": "526c5a4e",
   "metadata": {},
   "outputs": [
    {
     "name": "stdout",
     "output_type": "stream",
     "text": [
      "15\n"
     ]
    }
   ],
   "source": [
    "number = [10, 5, 20, 15, 8]\n",
    "number.sort()\n",
    "print(number[-2])"
   ]
  },
  {
   "cell_type": "markdown",
   "id": "68e4fe59",
   "metadata": {},
   "source": [
    "2. Write a code to find the common elements between two lists of integers:\n",
    "list1 = [1, 2, 3, 4, 5]\n",
    "list2 = [3, 4, 5, 6, 7]\n"
   ]
  },
  {
   "cell_type": "code",
   "execution_count": 2,
   "id": "bcd61969",
   "metadata": {},
   "outputs": [
    {
     "name": "stdout",
     "output_type": "stream",
     "text": [
      "[3, 4, 5]\n"
     ]
    }
   ],
   "source": [
    "list1 = [1, 2, 3, 4, 5]\n",
    "list2 = [3, 4, 5, 6, 7]\n",
    "\n",
    "common_element = []\n",
    "for num in list1:\n",
    "    if num in list2:\n",
    "        common_element.append(num)\n",
    "print(common_element)        "
   ]
  },
  {
   "cell_type": "markdown",
   "id": "ca20986d",
   "metadata": {},
   "source": [
    "3. write a code to create a new list with only the even numbers from the original list:\n",
    "numbers = [1, 2, 3, 4, 5, 6, 7, 8]\n"
   ]
  },
  {
   "cell_type": "code",
   "execution_count": 3,
   "id": "6f54ecc0",
   "metadata": {},
   "outputs": [
    {
     "name": "stdout",
     "output_type": "stream",
     "text": [
      "[2, 4, 6, 8]\n"
     ]
    }
   ],
   "source": [
    "numbers = [1, 2, 3, 4, 5, 6, 7, 8]\n",
    "even = []\n",
    "for num in numbers:\n",
    "    if num % 2 == 0:\n",
    "        even.append(num)\n",
    "print(even)       "
   ]
  },
  {
   "cell_type": "markdown",
   "id": "6133f5c2",
   "metadata": {},
   "source": [
    "4. Create a tuple of even numbers and write Python code to reverse its elements\n"
   ]
  },
  {
   "cell_type": "code",
   "execution_count": 4,
   "id": "0f3e7e75",
   "metadata": {},
   "outputs": [
    {
     "name": "stdout",
     "output_type": "stream",
     "text": [
      "(6, 5, 4, 3, 2, 1)\n"
     ]
    }
   ],
   "source": [
    "num = (1,2,3,4,5,6)\n",
    "print(num[::-1])"
   ]
  },
  {
   "cell_type": "markdown",
   "id": "fa1e0baa",
   "metadata": {},
   "source": [
    "5. Create a tuple of even integers including duplicates and write Python code to create a new\n",
    "tuple with only the unique elements, removing duplicates\n"
   ]
  },
  {
   "cell_type": "code",
   "execution_count": 5,
   "id": "2146ede0",
   "metadata": {},
   "outputs": [
    {
     "name": "stdout",
     "output_type": "stream",
     "text": [
      "(2, 4, 6, 8)\n"
     ]
    }
   ],
   "source": [
    "t = (2,4,4,6,8,8,2,2)\n",
    "new_t = []\n",
    "for num in t:\n",
    "    if num not in new_t:\n",
    "        new_t.append(num)\n",
    "print(tuple(new_t))"
   ]
  },
  {
   "cell_type": "markdown",
   "id": "79a196ca",
   "metadata": {},
   "source": [
    "6. Create a tuple of odd integers including duplicates and write Python code to create a new\n",
    "tuple with only the unique elements, removing duplicates\n"
   ]
  },
  {
   "cell_type": "code",
   "execution_count": 6,
   "id": "e1a5ab2e",
   "metadata": {},
   "outputs": [
    {
     "name": "stdout",
     "output_type": "stream",
     "text": [
      "(1, 3, 5, 7, 9, 11, 13)\n"
     ]
    }
   ],
   "source": [
    "t = (1,3,3,3,5,7,9,11,13)\n",
    "new_t = []\n",
    "for num in t:\n",
    "    if num not in new_t:\n",
    "        new_t.append(num)\n",
    "print(tuple(new_t))   "
   ]
  },
  {
   "cell_type": "markdown",
   "id": "de545eef",
   "metadata": {},
   "source": [
    "7. Create a code to find the union of two sets.\n"
   ]
  },
  {
   "cell_type": "code",
   "execution_count": 7,
   "id": "8e63f5a8",
   "metadata": {},
   "outputs": [
    {
     "name": "stdout",
     "output_type": "stream",
     "text": [
      "{1, 2, 3, 4, 5}\n"
     ]
    }
   ],
   "source": [
    "set1 = {1, 2, 3}\n",
    "set2 = {3, 4, 5}\n",
    "\n",
    "set3 = set1.union(set2)\n",
    "print(set3)"
   ]
  },
  {
   "cell_type": "markdown",
   "id": "3cdf7c5f",
   "metadata": {},
   "source": [
    "8. Create a code to find the common elements between two sets of integers.\n",
    "\n"
   ]
  },
  {
   "cell_type": "code",
   "execution_count": 8,
   "id": "207008d9",
   "metadata": {},
   "outputs": [
    {
     "name": "stdout",
     "output_type": "stream",
     "text": [
      "{4, 5}\n"
     ]
    }
   ],
   "source": [
    "set1 = {1, 2, 3, 4, 5}\n",
    "set2 = {4, 5, 6, 7, 8}\n",
    "\n",
    "set3 = set1.intersection(set2)\n",
    "print(set3)"
   ]
  },
  {
   "cell_type": "markdown",
   "id": "593c2cc0",
   "metadata": {},
   "source": [
    "9. Generate a new set with only the even numbers from the original set using Python code.\n",
    "\n"
   ]
  },
  {
   "cell_type": "code",
   "execution_count": 9,
   "id": "30caa6cc",
   "metadata": {},
   "outputs": [
    {
     "name": "stdout",
     "output_type": "stream",
     "text": [
      "{8, 2, 4, 6}\n"
     ]
    }
   ],
   "source": [
    "original_set = {1, 2, 3, 4, 5, 6, 7, 8}\n",
    "even_set = []\n",
    "for num in original_set:\n",
    "    if num % 2 == 0:\n",
    "        even_set.append(num)\n",
    "print(set(even_set))     "
   ]
  },
  {
   "cell_type": "markdown",
   "id": "2c769563",
   "metadata": {},
   "source": [
    "10. Write a code to create a dictionary from two lists, one for keys and another for values.\n"
   ]
  },
  {
   "cell_type": "code",
   "execution_count": 10,
   "id": "c0c2bca6",
   "metadata": {},
   "outputs": [
    {
     "name": "stdout",
     "output_type": "stream",
     "text": [
      "{'name': 'John', 'age': 30, 'city': 'New York'}\n"
     ]
    }
   ],
   "source": [
    "keys = [\"name\", \"age\", \"city\"]\n",
    "values = [\"John\", 30, \"New York\"]\n",
    "\n",
    "dictt = {}\n",
    "for key in keys:\n",
    "    for value in values:\n",
    "        dictt[key] = value\n",
    "        values.remove(value)\n",
    "        break\n",
    "print(dictt)"
   ]
  },
  {
   "cell_type": "code",
   "execution_count": null,
   "id": "36ae94dd",
   "metadata": {},
   "outputs": [],
   "source": []
  }
 ],
 "metadata": {
  "kernelspec": {
   "display_name": "Python 3 (ipykernel)",
   "language": "python",
   "name": "python3"
  },
  "language_info": {
   "codemirror_mode": {
    "name": "ipython",
    "version": 3
   },
   "file_extension": ".py",
   "mimetype": "text/x-python",
   "name": "python",
   "nbconvert_exporter": "python",
   "pygments_lexer": "ipython3",
   "version": "3.9.13"
  }
 },
 "nbformat": 4,
 "nbformat_minor": 5
}
